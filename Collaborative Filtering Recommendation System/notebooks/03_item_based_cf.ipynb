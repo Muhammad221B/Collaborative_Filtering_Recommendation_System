{
 "cells": [
  {
   "cell_type": "code",
   "execution_count": 1,
   "id": "6393ce0d",
   "metadata": {},
   "outputs": [],
   "source": [
    "import sys\n",
    "sys.path.append('../src')\n",
    "from data_loader import load_ratings, load_movies, prepare_surprise_dataset\n",
    "from recommender import train_item_based_cf, get_top_n_recommendations\n",
    "from surprise import accuracy\n",
    "import pandas as pd\n",
    "import os"
   ]
  },
  {
   "cell_type": "code",
   "execution_count": 2,
   "id": "7920a486",
   "metadata": {},
   "outputs": [],
   "source": [
    "ratings = load_ratings()\n",
    "movies = load_movies()\n",
    "trainset, testset = prepare_surprise_dataset(ratings)"
   ]
  },
  {
   "cell_type": "code",
   "execution_count": 3,
   "id": "e50b1ee1",
   "metadata": {},
   "outputs": [
    {
     "name": "stdout",
     "output_type": "stream",
     "text": [
      "Computing the cosine similarity matrix...\n",
      "Done computing similarity matrix.\n"
     ]
    }
   ],
   "source": [
    "algo_item = train_item_based_cf(trainset)"
   ]
  },
  {
   "cell_type": "code",
   "execution_count": 4,
   "id": "06bb66bd",
   "metadata": {},
   "outputs": [
    {
     "name": "stdout",
     "output_type": "stream",
     "text": [
      "\n",
      "RMSE for Item-Based CF:\n",
      "RMSE: 1.0264\n"
     ]
    },
    {
     "data": {
      "text/plain": [
       "1.0264295933767333"
      ]
     },
     "execution_count": 4,
     "metadata": {},
     "output_type": "execute_result"
    }
   ],
   "source": [
    "predictions_item = algo_item.test(testset)\n",
    "print(\"\\nRMSE for Item-Based CF:\")\n",
    "accuracy.rmse(predictions_item)"
   ]
  },
  {
   "cell_type": "code",
   "execution_count": 5,
   "id": "97464718",
   "metadata": {},
   "outputs": [
    {
     "name": "stdout",
     "output_type": "stream",
     "text": [
      "\n",
      "Top-5 Recommendations for User 1 (Item-Based CF):\n",
      "Movie: Coldblooded (1995), Predicted Rating: 4.53\n",
      "Movie: Cyclo (1995), Predicted Rating: 4.50\n",
      "Movie: Visitors, The (Visiteurs, Les) (1993), Predicted Rating: 4.47\n",
      "Movie: Chairman of the Board (1998), Predicted Rating: 4.33\n",
      "Movie: Hearts and Minds (1996), Predicted Rating: 4.28\n"
     ]
    }
   ],
   "source": [
    "user_id = 1\n",
    "top_n_item = get_top_n_recommendations(algo_item, user_id, movies, ratings, n=5)\n",
    "print(f\"\\nTop-5 Recommendations for User {user_id} (Item-Based CF):\")\n",
    "for movie_id, title, score in top_n_item:\n",
    "    print(f\"Movie: {title}, Predicted Rating: {score:.2f}\")"
   ]
  },
  {
   "cell_type": "code",
   "execution_count": 6,
   "id": "887ba5b5",
   "metadata": {},
   "outputs": [],
   "source": [
    "recommendations_df = pd.DataFrame(top_n_item, columns=['movie_id', 'title', 'predicted_rating'])\n",
    "recommendations_df['user_id'] = user_id\n",
    "recommendations_df['model_type'] = 'item_based'\n",
    "recommendations_df = recommendations_df[['user_id', 'model_type', 'movie_id', 'title', 'predicted_rating']]"
   ]
  },
  {
   "cell_type": "code",
   "execution_count": 7,
   "id": "37a4d17d",
   "metadata": {},
   "outputs": [],
   "source": [
    "results_dir = '../results'\n",
    "if not os.path.exists(results_dir):\n",
    "    os.makedirs(results_dir)"
   ]
  },
  {
   "cell_type": "code",
   "execution_count": 8,
   "id": "cdf465fe",
   "metadata": {},
   "outputs": [
    {
     "name": "stdout",
     "output_type": "stream",
     "text": [
      "\n",
      "Saved Top-N recommendations to '../results/top_n_recommendations.csv'\n"
     ]
    }
   ],
   "source": [
    "file_path = '../results/top_n_recommendations.csv'\n",
    "recommendations_df.to_csv(file_path, mode='w', header=True, index=False)\n",
    "print(\"\\nSaved Top-N recommendations to '../results/top_n_recommendations.csv'\")"
   ]
  }
 ],
 "metadata": {
  "kernelspec": {
   "display_name": "Python 3",
   "language": "python",
   "name": "python3"
  },
  "language_info": {
   "codemirror_mode": {
    "name": "ipython",
    "version": 3
   },
   "file_extension": ".py",
   "mimetype": "text/x-python",
   "name": "python",
   "nbconvert_exporter": "python",
   "pygments_lexer": "ipython3",
   "version": "3.11.9"
  }
 },
 "nbformat": 4,
 "nbformat_minor": 5
}
