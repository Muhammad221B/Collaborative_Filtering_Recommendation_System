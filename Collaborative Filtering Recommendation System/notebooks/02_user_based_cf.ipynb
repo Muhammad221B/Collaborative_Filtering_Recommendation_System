{
 "cells": [
  {
   "cell_type": "code",
   "execution_count": 1,
   "id": "f6f5024a",
   "metadata": {},
   "outputs": [],
   "source": [
    "import sys\n",
    "sys.path.append('../src')\n",
    "from data_loader import load_ratings, load_movies, prepare_surprise_dataset\n",
    "from recommender import train_user_based_cf, get_top_n_recommendations\n",
    "from surprise import accuracy"
   ]
  },
  {
   "cell_type": "code",
   "execution_count": 2,
   "id": "463a85c9",
   "metadata": {},
   "outputs": [],
   "source": [
    "ratings = load_ratings()\n",
    "movies = load_movies()\n",
    "trainset, testset = prepare_surprise_dataset(ratings)"
   ]
  },
  {
   "cell_type": "code",
   "execution_count": 3,
   "id": "ec4c336c",
   "metadata": {},
   "outputs": [
    {
     "name": "stdout",
     "output_type": "stream",
     "text": [
      "Computing the cosine similarity matrix...\n",
      "Done computing similarity matrix.\n"
     ]
    }
   ],
   "source": [
    "algo_user = train_user_based_cf(trainset)"
   ]
  },
  {
   "cell_type": "code",
   "execution_count": 4,
   "id": "a83b92ed",
   "metadata": {},
   "outputs": [
    {
     "name": "stdout",
     "output_type": "stream",
     "text": [
      "\n",
      "RMSE for User-Based CF:\n",
      "RMSE: 1.0194\n"
     ]
    },
    {
     "data": {
      "text/plain": [
       "1.0193536815834319"
      ]
     },
     "execution_count": 4,
     "metadata": {},
     "output_type": "execute_result"
    }
   ],
   "source": [
    "predictions_user = algo_user.test(testset)\n",
    "print(\"\\nRMSE for User-Based CF:\")\n",
    "accuracy.rmse(predictions_user)"
   ]
  },
  {
   "cell_type": "code",
   "execution_count": 5,
   "id": "34b2c510",
   "metadata": {},
   "outputs": [
    {
     "name": "stdout",
     "output_type": "stream",
     "text": [
      "\n",
      "Top-5 Recommendations for User 1 (User-Based CF):\n",
      "Movie: Great Day in Harlem, A (1994), Predicted Rating: 5.00\n",
      "Movie: They Made Me a Criminal (1939), Predicted Rating: 5.00\n",
      "Movie: Marlene Dietrich: Shadow and Light (1996) , Predicted Rating: 5.00\n",
      "Movie: Star Kid (1997), Predicted Rating: 5.00\n",
      "Movie: Saint of Fort Washington, The (1993), Predicted Rating: 5.00\n"
     ]
    }
   ],
   "source": [
    "user_id = 1\n",
    "top_n_user = get_top_n_recommendations(algo_user, user_id, movies, ratings, n=5)\n",
    "print(f\"\\nTop-5 Recommendations for User {user_id} (User-Based CF):\")\n",
    "for movie_id, title, score in top_n_user:\n",
    "    print(f\"Movie: {title}, Predicted Rating: {score:.2f}\")"
   ]
  }
 ],
 "metadata": {
  "kernelspec": {
   "display_name": "Python 3",
   "language": "python",
   "name": "python3"
  },
  "language_info": {
   "codemirror_mode": {
    "name": "ipython",
    "version": 3
   },
   "file_extension": ".py",
   "mimetype": "text/x-python",
   "name": "python",
   "nbconvert_exporter": "python",
   "pygments_lexer": "ipython3",
   "version": "3.11.9"
  }
 },
 "nbformat": 4,
 "nbformat_minor": 5
}
