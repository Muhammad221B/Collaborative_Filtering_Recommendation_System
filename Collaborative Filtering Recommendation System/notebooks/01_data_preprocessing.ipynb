{
 "cells": [
  {
   "cell_type": "code",
   "execution_count": 1,
   "id": "6b5c141d",
   "metadata": {},
   "outputs": [],
   "source": [
    "import sys\n",
    "sys.path.append('../src')\n",
    "from data_loader import load_ratings, load_movies, load_users, prepare_surprise_dataset"
   ]
  },
  {
   "cell_type": "code",
   "execution_count": 2,
   "id": "6038eede",
   "metadata": {},
   "outputs": [],
   "source": [
    "ratings = load_ratings()\n",
    "movies = load_movies()\n",
    "users = load_users()"
   ]
  },
  {
   "cell_type": "code",
   "execution_count": 3,
   "id": "06e4c3e8",
   "metadata": {},
   "outputs": [
    {
     "name": "stdout",
     "output_type": "stream",
     "text": [
      "Ratings:\n",
      "   user_id  item_id  rating  timestamp\n",
      "0      196      242       3  881250949\n",
      "1      186      302       3  891717742\n",
      "2       22      377       1  878887116\n",
      "3      244       51       2  880606923\n",
      "4      166      346       1  886397596\n",
      "\n",
      "Movies:\n",
      "   movie_id              title  genre_0  genre_1  genre_2  genre_3  genre_4  \\\n",
      "0         1   Toy Story (1995)        0        0        0        1        1   \n",
      "1         2   GoldenEye (1995)        0        1        1        0        0   \n",
      "2         3  Four Rooms (1995)        0        0        0        0        0   \n",
      "3         4  Get Shorty (1995)        0        1        0        0        0   \n",
      "4         5     Copycat (1995)        0        0        0        0        0   \n",
      "\n",
      "   genre_5  genre_6  genre_7  ...  genre_9  genre_10  genre_11  genre_12  \\\n",
      "0        1        0        0  ...        0         0         0         0   \n",
      "1        0        0        0  ...        0         0         0         0   \n",
      "2        0        0        0  ...        0         0         0         0   \n",
      "3        1        0        0  ...        0         0         0         0   \n",
      "4        0        1        0  ...        0         0         0         0   \n",
      "\n",
      "   genre_13  genre_14  genre_15  genre_16  genre_17  genre_18  \n",
      "0         0         0         0         0         0         0  \n",
      "1         0         0         0         1         0         0  \n",
      "2         0         0         0         1         0         0  \n",
      "3         0         0         0         0         0         0  \n",
      "4         0         0         0         1         0         0  \n",
      "\n",
      "[5 rows x 21 columns]\n",
      "\n",
      "Users:\n",
      "   user_id  age gender  occupation zip_code\n",
      "0        1   24      M  technician    85711\n",
      "1        2   53      F       other    94043\n",
      "2        3   23      M      writer    32067\n",
      "3        4   24      M  technician    43537\n",
      "4        5   33      F       other    15213\n"
     ]
    }
   ],
   "source": [
    "print(\"Ratings:\")\n",
    "print(ratings.head())\n",
    "\n",
    "print(\"\\nMovies:\")\n",
    "print(movies.head())\n",
    "\n",
    "print(\"\\nUsers:\")\n",
    "print(users.head())"
   ]
  },
  {
   "cell_type": "code",
   "execution_count": 4,
   "id": "77dcf600",
   "metadata": {},
   "outputs": [],
   "source": [
    "trainset, testset = prepare_surprise_dataset(ratings)"
   ]
  },
  {
   "cell_type": "code",
   "execution_count": 5,
   "id": "8ae31610",
   "metadata": {},
   "outputs": [
    {
     "name": "stdout",
     "output_type": "stream",
     "text": [
      "\n",
      "Data successfully prepared for Surprise.\n",
      "Number of users in trainset: 943\n",
      "Number of items in trainset: 1651\n",
      "Number of ratings in trainset: 80000\n",
      "Number of testset ratings: 20000\n"
     ]
    }
   ],
   "source": [
    "if trainset is not None and testset is not None:\n",
    "    print(\"\\nData successfully prepared for Surprise.\")\n",
    "    print(f\"Number of users in trainset: {trainset.n_users}\")\n",
    "    print(f\"Number of items in trainset: {trainset.n_items}\")\n",
    "    print(f\"Number of ratings in trainset: {trainset.n_ratings}\")\n",
    "    print(f\"Number of testset ratings: {len(testset)}\")\n",
    "else:\n",
    "    print(\"\\nFailed to prepare data for Surprise.\")"
   ]
  }
 ],
 "metadata": {
  "kernelspec": {
   "display_name": "Python 3",
   "language": "python",
   "name": "python3"
  },
  "language_info": {
   "codemirror_mode": {
    "name": "ipython",
    "version": 3
   },
   "file_extension": ".py",
   "mimetype": "text/x-python",
   "name": "python",
   "nbconvert_exporter": "python",
   "pygments_lexer": "ipython3",
   "version": "3.11.9"
  }
 },
 "nbformat": 4,
 "nbformat_minor": 5
}
